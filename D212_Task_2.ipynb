{
 "cells": [
  {
   "cell_type": "markdown",
   "id": "076d2fab-756f-4544-9602-b7bdafe0d053",
   "metadata": {},
   "source": [
    "**Rancel Hernandez**\n",
    "\n",
    "**Jan 12, 2025**\n",
    "\n",
    "**Student ID: 012218003**\n",
    "\n",
    "# Introduction\n",
    "\n",
    "## Dimensionality Reduction for Hospital Readmission Prediction\n",
    "\n",
    "This project investigates whether Principal Component Analysis (PCA) can effectively reduce dataset dimensionality while maintaining comparable predictive performance in a logistic regression model that predicts patient readmission likelihood.\n",
    "\n",
    "### Project Context\n",
    "Healthcare facilities generate vast amounts of patient data, presenting computational challenges when building predictive models. Dimensionality reduction techniques like PCA can potentially optimize model performance by identifying the most important components that capture feature variance while reducing computational requirements.\n",
    "\n",
    "### Research Question\n",
    "Can PCA effectively reduce the dimensionality of the dataset while maintaining a comparable predictive performance in a logistic regression model that predicts the likelihood of readmission?\n",
    "\n",
    "### Business Value\n",
    "Reducing readmission rates is critical for healthcare facilities. The Centers for Medicare and Medicaid Services (CMS) penalize hospitals with high readmission rates to encourage initiatives that improve patient outcomes. By building efficient predictive models, healthcare providers can identify at-risk patients earlier, implement targeted interventions, and potentially avoid CMS penalties.\n",
    "\n",
    "### Dataset Description\n",
    "The dataset contains information on hospital patients including:\n",
    "- Income of primary insurance holder\n",
    "- Initial hospitalization duration (days)\n",
    "- Total charge per hospitalization day\n",
    "- Patient age\n",
    "- Additional charges\n",
    "- Population within one mile radius\n",
    "- Vitamin D levels\n",
    "- Readmission status (target variable)"
   ]
  },
  {
   "cell_type": "markdown",
   "id": "abe7f956",
   "metadata": {},
   "source": [
    "## Imports"
   ]
  },
  {
   "cell_type": "code",
   "execution_count": 2,
   "id": "18ec4e19",
   "metadata": {},
   "outputs": [],
   "source": [
    "# load the CSV file into a DataFrame\n",
    "import pandas as pd\n",
    "\n",
    "# visualize scree plot and heatmap\n",
    "import matplotlib.pyplot as plt\n",
    "import seaborn as sns\n",
    "\n",
    "# split and scale the data\n",
    "from sklearn.model_selection import train_test_split\n",
    "from sklearn.preprocessing import StandardScaler\n",
    "\n",
    "# apply PCA and create logistic models\n",
    "from sklearn.linear_model import LogisticRegression\n",
    "from sklearn.decomposition import PCA\n",
    "\n",
    "# performance metrics\n",
    "from sklearn.metrics import accuracy_score, roc_auc_score, recall_score"
   ]
  },
  {
   "cell_type": "markdown",
   "id": "a7035a3a",
   "metadata": {},
   "source": [
    "## Process Data\n",
    "- Load the data\n",
    "- Initialize the continuous variables\n",
    "- Split into train and test sets\n",
    "- Scale the data"
   ]
  },
  {
   "cell_type": "code",
   "execution_count": 3,
   "id": "5cf181b0",
   "metadata": {},
   "outputs": [],
   "source": [
    "# path to the dataset\n",
    "file_path = '/Users/rancelhernandez/Downloads/d8fj4l3d9s94jfu43kf9/medical_clean.csv'\n",
    "\n",
    "# load the data from the CSV file into medical_df\n",
    "medical_df = pd.read_csv(file_path)"
   ]
  },
  {
   "cell_type": "code",
   "execution_count": 4,
   "id": "82f62a85",
   "metadata": {},
   "outputs": [],
   "source": [
    "# declare the continuous variables \n",
    "cont_vars = [\n",
    "    'Income',\n",
    "    'Initial_days',\n",
    "    'TotalCharge',\n",
    "    'Age',\n",
    "    'Additional_charges',\n",
    "    'Population',\n",
    "    'VitD_levels'\n",
    "]\n",
    "\n",
    "# set the training data and labels\n",
    "X = medical_df[cont_vars]\n",
    "y = medical_df['ReAdmis']\n",
    "\n",
    "# replace 'Yes' with 1 and 'No' with 0\n",
    "y = y.replace({'Yes': 1, 'No': 0})\n",
    "\n",
    "# split the data into train/test\n",
    "X_train, X_test, y_train, y_test = train_test_split(X, y, test_size=0.2, stratify=y, random_state=42)\n",
    "\n",
    "# create scaler object\n",
    "scaler = StandardScaler()\n",
    "\n",
    "# fit and transform on the training data\n",
    "X_train_scaled = scaler.fit_transform(X_train)\n",
    "\n",
    "# transform the test data\n",
    "X_test_scaled = scaler.transform(X_test)"
   ]
  },
  {
   "cell_type": "markdown",
   "id": "d5fe6fc9",
   "metadata": {},
   "source": [
    "## PCA Analysis\n",
    "- Create PCA object\n",
    "- Train and transform data\n",
    "- Analyze and select optimal principal components"
   ]
  },
  {
   "cell_type": "code",
   "execution_count": 5,
   "id": "ef715937",
   "metadata": {},
   "outputs": [],
   "source": [
    "# cretae pca object\n",
    "pca = PCA()\n",
    "\n",
    "# fit and transform the training and testing data\n",
    "X_train_transformed = pca.fit_transform(X_train_scaled)\n",
    "X_test_transformed = pca.transform(X_test_scaled)"
   ]
  },
  {
   "cell_type": "code",
   "execution_count": 6,
   "id": "b5745f23",
   "metadata": {
    "scrolled": true
   },
   "outputs": [
    {
     "name": "stdout",
     "output_type": "stream",
     "text": [
      "       Income  Initial_days  TotalCharge       Age  Additional_charges  Population  VitD_levels\n",
      "PC1 -0.022638      0.700390     0.701504  0.092011            0.088339    0.023287     0.004773\n",
      "PC2 -0.031521     -0.094914    -0.085333  0.700290            0.700747   -0.033206     0.012735\n",
      "PC3  0.703051      0.016579     0.012366  0.020978            0.017479   -0.197016    -0.682445\n",
      "PC4 -0.077643     -0.019794    -0.016737  0.012332            0.030017    0.932988    -0.348970\n",
      "PC5  0.705808      0.001722     0.002318  0.018558            0.016180    0.298216     0.642096\n",
      "PC6 -0.003940      0.028453    -0.032695  0.706772           -0.705995    0.011682    -0.003689\n",
      "PC7  0.002028     -0.706376     0.706473  0.025796           -0.035397   -0.002020    -0.001801\n"
     ]
    }
   ],
   "source": [
    "# create a DataFrame for better readability\n",
    "principal_components = pd.DataFrame(\n",
    "    pca.components_,\n",
    "    columns=[f\"{cont_vars[i]}\" for i in range(len(cont_vars))],\n",
    "    index=[f\"PC{j+1}\" for j in range(len(pca.components_))]\n",
    ")\n",
    "\n",
    "# improve display of the output\n",
    "pd.set_option('display.max_columns', None)  \n",
    "pd.set_option('display.width', 200)        \n",
    "\n",
    "print(principal_components)"
   ]
  },
  {
   "cell_type": "code",
   "execution_count": 7,
   "id": "ce57c6b4",
   "metadata": {},
   "outputs": [
    {
     "data": {
      "image/png": "[encoded data removed]",
      "text/plain": [
       "<Figure size 720x432 with 2 Axes>"
      ]
     },
     "metadata": {
      "needs_background": "light"
     },
     "output_type": "display_data"
    }
   ],
   "source": [
    "# plot the matrix of all components in a heatmap\n",
    "plt.figure(figsize=(10, 6))\n",
    "sns.heatmap(principal_components, annot=True, cmap=\"coolwarm\", fmt=\".2f\", linewidths=0.5)\n",
    "\n",
    "# add labels and show plot\n",
    "plt.title(\"Principal Component Matrix Heatmap\")\n",
    "plt.xlabel(\"Original Features\")\n",
    "plt.ylabel(\"Principal Components\")\n",
    "plt.show()"
   ]
  },
  {
   "cell_type": "code",
   "execution_count": 8,
   "id": "2b0595ef",
   "metadata": {},
   "outputs": [],
   "source": [
    "# set features to the range of components\n",
    "features = range(1, pca.n_components_ + 1)"
   ]
  },
  {
   "cell_type": "code",
   "execution_count": 9,
   "id": "c5cc3704",
   "metadata": {},
   "outputs": [
    {
     "data": {
      "image/png": "[encoded data removed]",
      "text/plain": [
       "<Figure size 432x288 with 1 Axes>"
      ]
     },
     "metadata": {
      "needs_background": "light"
     },
     "output_type": "display_data"
    }
   ],
   "source": [
    "# create the scree plot of the Principal Components and the explained variance\n",
    "plt.plot(features, pca.explained_variance_ratio_, marker='o', linestyle='--')\n",
    "\n",
    "# add labels\n",
    "plt.xticks(features)\n",
    "plt.ylabel('Variance')\n",
    "plt.xlabel('PCA Features')\n",
    "plt.title('Scree Plot - Explained Variance')\n",
    "\n",
    "# add a marker at the elbow\n",
    "plt.scatter(3, pca.explained_variance_ratio_[2], color='red', s=120, label='Elbow Point')\n",
    "\n",
    "# add label at the elbow around the marker (2.3, 1.1)\n",
    "plt.text(3.3, 0.16, 'Elbow', color='black', fontsize=12, ha='center') \n",
    "\n",
    "plt.show()"
   ]
  },
  {
   "cell_type": "code",
   "execution_count": 10,
   "id": "a4ec35f9",
   "metadata": {},
   "outputs": [
    {
     "name": "stdout",
     "output_type": "stream",
     "text": [
      "Eigenvalues: [('PC1', 1.9936), ('PC2', 1.7117), ('PC3', 1.016), ('PC4', 0.9999), ('PC5', 0.982), ('PC6', 0.286), ('PC7', 0.0117)]\n"
     ]
    }
   ],
   "source": [
    "# apply the kaiser criterion\n",
    "\n",
    "# print the principal comonent with their varince\n",
    "pc_variances = [(\"PC\" + str(var + 1), round(pca.explained_variance_[var], 4)) for var in range(len(pca.explained_variance_))]\n",
    "print(\"Eigenvalues:\", pc_variances)"
   ]
  },
  {
   "cell_type": "code",
   "execution_count": 11,
   "id": "284ab421",
   "metadata": {},
   "outputs": [
    {
     "name": "stdout",
     "output_type": "stream",
     "text": [
      "Cumulative variance of all PCs:  7.0009\n",
      "Total variance of the optimal number of PCs: 4.7214\n"
     ]
    }
   ],
   "source": [
    "# print the total variance for the selected amount of PCs\n",
    "total_variance = sum(pca.explained_variance_)\n",
    "opt_variance = sum(pca.explained_variance_[:3])\n",
    "\n",
    "print(\"Cumulative variance of all PCs: \", round(total_variance, 4))\n",
    "print(\"Total variance of the optimal number of PCs:\", round(opt_variance, 4))"
   ]
  },
  {
   "cell_type": "markdown",
   "id": "9c11841f",
   "metadata": {},
   "source": [
    "## Logistic Regression Models\n",
    "- Create both models\n",
    "- Train them on corresponding data\n",
    "- Calculate the performance metrics"
   ]
  },
  {
   "cell_type": "code",
   "execution_count": 12,
   "id": "393950bd",
   "metadata": {},
   "outputs": [
    {
     "data": {
      "text/plain": [
       "LogisticRegression()"
      ]
     },
     "execution_count": 12,
     "metadata": {},
     "output_type": "execute_result"
    }
   ],
   "source": [
    "# create the base logistic regresion model \n",
    "log_model = LogisticRegression()\n",
    "\n",
    "# train on the full set of continuous variables\n",
    "log_model.fit(X_train_scaled, y_train)"
   ]
  },
  {
   "cell_type": "code",
   "execution_count": 13,
   "id": "ff55c1f5",
   "metadata": {},
   "outputs": [],
   "source": [
    "# get the predictions and positive class probabilities\n",
    "y_pred = log_model.predict(X_test_scaled)\n",
    "y_pred_prob = log_model.predict_proba(X_test_scaled)[:, 1]"
   ]
  },
  {
   "cell_type": "code",
   "execution_count": 14,
   "id": "914bc391",
   "metadata": {},
   "outputs": [],
   "source": [
    "# calculate the performance metrics\n",
    "lm_acc = accuracy_score(y_test, y_pred)\n",
    "lm_auc = roc_auc_score(y_test, y_pred_prob)\n",
    "lm_recall = recall_score(y_test, y_pred)"
   ]
  },
  {
   "cell_type": "code",
   "execution_count": 15,
   "id": "fea2453f",
   "metadata": {},
   "outputs": [
    {
     "data": {
      "text/plain": [
       "LogisticRegression()"
      ]
     },
     "execution_count": 15,
     "metadata": {},
     "output_type": "execute_result"
    }
   ],
   "source": [
    "# select only up to PC3\n",
    "pc3_train = X_train_transformed[:, :3]\n",
    "\n",
    "# create the logistic model trained on first 3 PCs\n",
    "log_model_pca = LogisticRegression()\n",
    "\n",
    "log_model_pca.fit(pc3_train, y_train)"
   ]
  },
  {
   "cell_type": "code",
   "execution_count": 16,
   "id": "b01bf452",
   "metadata": {},
   "outputs": [],
   "source": [
    "# get the 3 components of the transformed data\n",
    "pc3_test = X_test_transformed[:, :3]\n",
    "\n",
    "# get the predictions and probabilites\n",
    "y_pred = log_model_pca.predict(pc3_test)\n",
    "y_pred_proba = log_model_pca.predict_proba(pc3_test)[:, 1]"
   ]
  },
  {
   "cell_type": "code",
   "execution_count": 17,
   "id": "0f46cf5a",
   "metadata": {},
   "outputs": [],
   "source": [
    "# calculate the performance metrics of the pca trianed model\n",
    "pca_acc = accuracy_score(y_test, y_pred)\n",
    "pca_auc = roc_auc_score(y_test, y_pred_prob)\n",
    "pca_recall = recall_score(y_test, y_pred)"
   ]
  },
  {
   "cell_type": "code",
   "execution_count": 18,
   "id": "5bae67a9",
   "metadata": {},
   "outputs": [],
   "source": [
    "# select only up to PC3\n",
    "pc1_train = X_train_transformed[:, :1]\n",
    "\n",
    "# create the logistic model trained on first 3 PCs\n",
    "log_model_pc1 = LogisticRegression()\n",
    "\n",
    "log_model_pc1.fit(pc1_train, y_train)\n",
    "\n",
    "# get the 3 components of the transformed data\n",
    "pc1_test = X_test_transformed[:, :1]\n",
    "\n",
    "# get the predictions and probabilites\n",
    "y_pred = log_model_pc1.predict(pc1_test)\n",
    "y_pred_proba = log_model_pc1.predict_proba(pc1_test)[:, 1]\n",
    "\n",
    "# calculate the performance metrics of the pca trianed model\n",
    "pc1_acc = accuracy_score(y_test, y_pred)\n",
    "pc1_auc = roc_auc_score(y_test, y_pred_prob)\n",
    "pc1_recall = recall_score(y_test, y_pred)"
   ]
  },
  {
   "cell_type": "markdown",
   "id": "857171fc",
   "metadata": {},
   "source": [
    "## Assess Performance\n",
    "- Compare the performance of both models\n",
    "- Determine the degree of dimensionality reduction achieved by comparing the number of original features to the selected principal components"
   ]
  },
  {
   "cell_type": "code",
   "execution_count": 19,
   "id": "824a7f0e",
   "metadata": {},
   "outputs": [
    {
     "name": "stdout",
     "output_type": "stream",
     "text": [
      "Base Accuracy: 0.9805\n",
      "PCA Accuracy: 0.9765\n",
      "PC1 Accuracy: 0.957\n",
      "\n",
      "Base AUC: 0.9988\n",
      "PCA AUC: 0.9988\n",
      "PC1 AUC: 0.9988\n",
      "\n",
      "Base Recall: 0.9796\n",
      "PCA Recall: 0.9796\n",
      "PC1 Recall: 0.9591\n"
     ]
    }
   ],
   "source": [
    "# print the performance metrics to compare\n",
    "print(\"Base Accuracy:\", lm_acc)\n",
    "print(\"PCA Accuracy:\", pca_acc)\n",
    "print(\"PC1 Accuracy:\", pc1_acc)\n",
    "print(\"\\nBase AUC:\", round(lm_auc, 4))\n",
    "print(\"PCA AUC:\", round(pca_auc, 4))\n",
    "print(\"PC1 AUC:\", round(pc1_auc, 4))\n",
    "print(\"\\nBase Recall:\", round(lm_recall, 4))\n",
    "print(\"PCA Recall:\", round(pca_recall, 4))\n",
    "print(\"PC1 Recall:\", round(pc1_recall, 4))"
   ]
  },
  {
   "cell_type": "code",
   "execution_count": 20,
   "id": "619971ea",
   "metadata": {},
   "outputs": [
    {
     "name": "stdout",
     "output_type": "stream",
     "text": [
      "Base data: (8000, 7)\n",
      "PCA data: (8000, 3)\n",
      "PC1 data: (8000, 1)\n"
     ]
    }
   ],
   "source": [
    "# print the shape of the base train data and pca train data\n",
    "print(\"Base data:\", X_train_scaled.shape)\n",
    "print(\"PCA data:\", pc3_train.shape)\n",
    "print(\"PC1 data:\", pc1_train.shape)"
   ]
  },
  {
   "cell_type": "code",
   "execution_count": 23,
   "id": "1e546fb6",
   "metadata": {},
   "outputs": [],
   "source": [
    "# convert each numpy array to a df\n",
    "X_train_scaled_df = pd.DataFrame(X_train_scaled)\n",
    "X_test_scaled_df = pd.DataFrame(X_test_scaled)\n",
    "\n",
    "# combine the train and test data\n",
    "scaled_data = pd.concat([X_train_scaled_df, X_test_scaled_df], axis=0)\n",
    "\n",
    "# name columns to the name of the features\n",
    "scaled_data.columns = cont_vars\n",
    "\n",
    "# export scaled data df into a CSV file\n",
    "scaled_data.to_csv('scaled_data_T2.csv', index=False)"
   ]
  },
  {
   "cell_type": "markdown",
   "id": "ff4c18ff-b80b-4005-93dc-3a1531df34dd",
   "metadata": {},
   "source": [
    "# Conclusion\n",
    "\n",
    "## Summary of Findings\n",
    "\n",
    "The implementation of Principal Component Analysis (PCA) successfully reduced the dimensionality of our hospital patient dataset while maintaining strong predictive performance for readmission likelihood. Key findings include:\n",
    "\n",
    "1. **Optimal Component Selection**: The analysis identified three principal components as optimal based on the scree plot elbow method and Kaiser criterion (eigenvalues > 1), capturing approximately 67.4% of the total variance.\n",
    "\n",
    "2. **Model Performance Comparison**:\n",
    "   - Baseline model (all features): 98.05% accuracy, 0.9988 AUC\n",
    "   - PCA model (3 components): 97.65% accuracy, 0.9988 AUC\n",
    "   - PC1 model (1 component): 95.70% accuracy, 0.9988 AUC\n",
    "\n",
    "3. **Minimal Performance Trade-off**: The maximum decrease in accuracy between models was only 2.35%, while AUC remained constant at 0.9988 across all models, indicating excellent ranking capabilities even with reduced dimensions.\n",
    "\n",
    "4. **Recall Optimization**: The PCA model achieved the highest recall score, which is particularly important for identifying patients at risk of readmission in this imbalanced dataset.\n",
    "\n",
    "## Business Implications\n",
    "\n",
    "These findings demonstrate that healthcare facilities can significantly reduce computational requirements in their predictive models while maintaining high performance. The model selection ultimately depends on specific priorities:\n",
    "\n",
    "- If maximizing recall is the primary goal (identifying as many potential readmissions as possible), the 3-component PCA model offers the best balance of dimensionality reduction and performance.\n",
    "- If computational efficiency is paramount, the single-component PC1 model provides substantial dimensionality reduction with minimal performance loss.\n",
    "\n",
    "Either approach enables healthcare providers to efficiently identify patients at risk of readmission, allowing for targeted interventions that could improve patient outcomes and avoid CMS penalties for high readmission rates.\n",
    "\n",
    "## Future Directions\n",
    "\n",
    "Future work could explore:\n",
    "- Testing alternative dimensionality reduction techniques like t-SNE or UMAP\n",
    "- Incorporating categorical variables into the predictive model\n",
    "- Investigating the relationship between specific principal components and clinical interventions\n",
    "- Developing an automated system to flag high-risk patients in real-time"
   ]
  },
  {
   "cell_type": "code",
   "execution_count": null,
   "id": "60d4769c-3069-4386-9025-64072753fa55",
   "metadata": {},
   "outputs": [],
   "source": []
  }
 ],
 "metadata": {
  "kernelspec": {
   "display_name": "Python 3 (ipykernel)",
   "language": "python",
   "name": "python3"
  },
  "language_info": {
   "codemirror_mode": {
    "name": "ipython",
    "version": 3
   },
   "file_extension": ".py",
   "mimetype": "text/x-python",
   "name": "python",
   "nbconvert_exporter": "python",
   "pygments_lexer": "ipython3",
   "version": "3.11.7"
  }
 },
 "nbformat": 4,
 "nbformat_minor": 5
}
